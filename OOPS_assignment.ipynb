{
  "nbformat": 4,
  "nbformat_minor": 0,
  "metadata": {
    "colab": {
      "provenance": []
    },
    "kernelspec": {
      "name": "python3",
      "display_name": "Python 3"
    },
    "language_info": {
      "name": "python"
    }
  },
  "cells": [
    {
      "cell_type": "markdown",
      "source": [
        "# OOPS Assignment"
      ],
      "metadata": {
        "id": "GSRj99q5ahqc"
      }
    },
    {
      "cell_type": "markdown",
      "source": [
        "## Theorical Question and Answers"
      ],
      "metadata": {
        "id": "VspcPvB8awKJ"
      }
    },
    {
      "cell_type": "markdown",
      "source": [
        "1. What is Object-Oriented Programming (OOP)?\n",
        "    - Object-Oriented Programming (OOP) is a programming paradigm that uses objects and classes to structure and organize code. It allows for the creation of reusable and modular code by encapsulating data and behavior within objects. Key concepts in OOP include classes, objects, inheritance, encapsulation, and polymorphism. These concepts help in creating well-structured and maintainable code by modeling real-world entities and their interactions. OOP is widely used in Python and other programming languages to build complex and scalable applications."
      ],
      "metadata": {
        "id": "yPT8AArPbD99"
      }
    },
    {
      "cell_type": "markdown",
      "source": [
        "2.  What is a class in OOP?\n",
        "     - In OOP, a class is a blueprint for creating objects. It defines a set of attributes (data) and methods (functions) that the objects created from the class will have. Classes allow you to encapsulate data and behavior into a single unit, making your code more modular, reusable, and easier to manage."
      ],
      "metadata": {
        "id": "HhFSSJgXdS6X"
      }
    },
    {
      "cell_type": "markdown",
      "source": [
        "3.  What is an object in OOP?\n",
        "    - In OOP, an object is an instance of a class. It represents a specific entity with attributes (data) and methods (functions) defined by the class. Objects are used to model real-world entities and their interactions, allowing for modular, reusable, and organized code. Each object has its own state and behavior, encapsulated within the class it is created from."
      ],
      "metadata": {
        "id": "fLln9r3MerfM"
      }
    },
    {
      "cell_type": "markdown",
      "source": [
        "4. What is the difference between abstraction and encapsulation?\n",
        "    - Abstraction and encapsulation are both fundamental concepts in Object-Oriented Programming (OOP), but they serve different purposes:               \n",
        "\n",
        "       => Abstraction:         \n",
        "     - Purpose: To hide the complex implementation details and show only the essential features of an object.\n",
        "     - Focus: On what an object does rather than how it does it.  \n",
        "      =>   Encapsulation:\n",
        "     - Purpose: To bundle data (attributes) and methods (functions) that operate on the data into a single unit (class) and restrict direct access to some of the object's components.\n",
        "     - Focus: On protecting the internal state of an object and ensuring that it can only be modified through well-defined methods.   \n",
        "\n",
        "       Hence, abstraction simplifies complexity by focusing on the essential features, while encapsulation protects the internal state of an object by restricting access to its components."
      ],
      "metadata": {
        "id": "RYBhcRq3f1Pw"
      }
    },
    {
      "cell_type": "markdown",
      "source": [
        "5. What are dunder methods in Python?\n",
        "    - Dunder methods, short for \"double underscore\" methods,these are the special methods in Python that have double underscores at the beginning and end of their names (e.g., __int__, __str__). They are also known as magic methods. These methods allow you to define the behavior of objects for built-in operations, such as initialization, representation, comparison, and arithmetic operations. Dunder methods enable you to customize how your objects interact with Python's syntax and built-in functions."
      ],
      "metadata": {
        "id": "z4WhET9dkJyI"
      }
    },
    {
      "cell_type": "markdown",
      "source": [
        "6. Explain the concept of inheritance in OOP.\n",
        "   - Inheritance in Object-Oriented Programming (OOP) is a mechanism that allows a class to inherit attributes and methods from another class. The class that inherits is called the \"subclass\" or \"derived class,\" and the class being inherited from is called the \"superclass\" or \"base class.\" Inheritance promotes code reuse and establishes a hierarchical relationship between classes. It allows the subclass to extend or modify the behavior of the superclass, enabling the creation of more specialized classes based on general ones."
      ],
      "metadata": {
        "id": "-Ts8n3vKn-G9"
      }
    },
    {
      "cell_type": "markdown",
      "source": [
        "7. What is polymorphism in OOP?\n",
        "    - Polymorphism in Object-Oriented Programming (OOP) is the ability of different objects to be treated as instances of the same class through inheritance. It allows methods to be used interchangeably, even if they belong to different classes. Polymorphism enables a single interface to represent different underlying forms (data types), promoting flexibility and code reusability. This concept is often implemented through method overriding and method overloading."
      ],
      "metadata": {
        "id": "hZBMAi_-o0On"
      }
    },
    {
      "cell_type": "markdown",
      "source": [
        "8.  How is encapsulation achieved in Python?\n",
        "    - Encapsulation in Python is a key concept in Object-Oriented Programming (OOP) that bundles data and methods into a single unit, known as a class. It protects the internal state of an object by restricting direct access to its attributes and methods. This is achieved using access modifiers: public (no leading underscore), protected (single leading underscore), and private (double leading underscore). Encapsulation ensures that an object's state can only be modified through well-defined interfaces, promoting code maintainability and integrity.\n",
        "\n"
      ],
      "metadata": {
        "id": "Ylv6-gqbqOA2"
      }
    },
    {
      "cell_type": "markdown",
      "source": [
        "9. What is a constructor in Python?\n",
        "   - In Python, a constructor is a special method called __init__ that is automatically invoked when an object of a class is created. It initializes the object's attributes and sets up any necessary initial state. The constructor method allows you to pass arguments to set the initial values of the object's attributes. Here's a simple example:"
      ],
      "metadata": {
        "id": "r7bSM7gjsBnR"
      }
    },
    {
      "cell_type": "code",
      "source": [
        "class Person:\n",
        "    def __init__(self, name, age):\n",
        "        self.name = name\n",
        "        self.age = age\n",
        "# Creating an object of the Person class\n",
        "person1 = Person(\"umesh\", 20)\n",
        "print(person1.name)  # Output: umesh\n",
        "print(person1.age)   # Output: 20\n",
        "# In this example, the __init__ method initializes the name and age attributes of the Person class when a new object is created."
      ],
      "metadata": {
        "colab": {
          "base_uri": "https://localhost:8080/"
        },
        "id": "DmVQ2qvTau8K",
        "outputId": "a76cae7e-aee0-4944-b3fb-c9252e66f3c6"
      },
      "execution_count": null,
      "outputs": [
        {
          "output_type": "stream",
          "name": "stdout",
          "text": [
            "umesh\n",
            "20\n"
          ]
        }
      ]
    },
    {
      "cell_type": "markdown",
      "source": [
        "10. What are class and static methods in Python?\n",
        "     - In Python, class methods and static methods are two types of methods that can be defined within a class, but they serve different purposes:\n",
        "\n",
        "     Class Methods:\n",
        "\n",
        "      = Defined using the @classmethod decorator.\n",
        "\n",
        "      = The first parameter is cls, which refers to the class itself, not an instance of the class.\n",
        "\n",
        "       = Used to access or modify class-level attributes and methods.\n",
        "\n",
        "       = Can be called on the class itself or on an instance of the class.\n",
        "\n",
        "      Static Methods:\n",
        "\n",
        "       = Defined using the @staticmethod decorator.\n",
        "\n",
        "        = Do not take self or cls as the first parameter.\n",
        "\n",
        "       = Behave like regular functions but belong to the class's namespace.\n",
        "\n",
        "        = Cannot access or modify class-level attributes or methods directly.\n",
        "\n",
        "       = Used for utility functions that are related to the class but do not\n",
        "         need to access class or instance-specific data.\n",
        "\n",
        "       Class methods are useful when you need to work with class-level data, while static methods are ideal for utility functions that do not depend on class or instance-specific data.\n",
        "\n"
      ],
      "metadata": {
        "id": "B9CpQYAbuJfa"
      }
    },
    {
      "cell_type": "markdown",
      "source": [
        "11.  What is method overloading in Python?\n",
        "     - Method overloading in Python refers to the ability to define multiple methods with the same name but different parameters within the same class. However, Python does not support method overloading in the traditional sense, as seen in some other programming languages. Instead, you can achieve similar functionality by using default arguments or variable-length arguments (**args and **kwargs) to handle different numbers and types of parameters in a single method definition. This allows you to create flexible methods that can handle various input scenarios.\n",
        "\n"
      ],
      "metadata": {
        "id": "Y8wUX0EPDlbz"
      }
    },
    {
      "cell_type": "markdown",
      "source": [
        "12.  What is method overriding in OOP?\n",
        "     - Method overriding in Object-Oriented Programming (OOP) is a feature that allows a subclass to provide a specific implementation of a method that is already defined in its superclass. When a method in a subclass has the same name, return type, and parameters as a method in the superclass, the subclass's method overrides the superclass's method. This allows the subclass to customize or extend the behavior of the inherited method, enabling polymorphism and promoting code reuse.\n",
        "\n"
      ],
      "metadata": {
        "id": "eKeX0JBHE7XO"
      }
    },
    {
      "cell_type": "markdown",
      "source": [
        "13. What is a property decorator in Python?\n",
        "    - A property decorator in Python is a built-in decorator that allows you to define methods in a class that can be accessed like attributes. It is used to create getter, setter, and deleter methods for managing the access and modification of private attributes. The @property decorator is used to define a getter method, while @<property_name>.setter and @<property_name>.deleter decorators are used to define setter and deleter methods, respectively. This approach provides a clean and controlled way to access and modify the attributes of a class.\n",
        "\n"
      ],
      "metadata": {
        "id": "5ws5foyRJdI7"
      }
    },
    {
      "cell_type": "markdown",
      "source": [
        "14. Why is polymorphism important in OOP?\n",
        "    - Polymorphism is important in Object-Oriented Programming (OOP) because it promotes flexibility and code reusability. It allows objects of different classes to be treated as instances of the same class through a common interface. This enables methods to be used interchangeably, even if they belong to different classes, making it easier to extend and maintain code. Polymorphism also supports the concept of dynamic method binding, where the method to be executed is determined at runtime, enhancing the adaptability and scalability of the code.\n",
        "\n"
      ],
      "metadata": {
        "id": "qaSgGRCRMLoe"
      }
    },
    {
      "cell_type": "markdown",
      "source": [
        "15. What is an abstract class in Python?\n",
        "    - An abstract class in Python is a class that cannot be instantiated directly and is meant to be subclassed. It serves as a blueprint for other classes. Abstract classes can contain abstract methods, which are methods declared without an implementation. These methods must be implemented by any subclass that inherits from the abstract class. Abstract classes are defined using the abc module, and the @abstractmethod decorator is used to declare abstract methods. This concept helps in creating a common interface for a group of related classes, ensuring that certain methods are implemented in all subclasses.\n",
        "\n"
      ],
      "metadata": {
        "id": "IDBAt5ruNjT5"
      }
    },
    {
      "cell_type": "markdown",
      "source": [
        "16.  What are the advantages of OOP?           \n",
        "     = There are several advantages of Object-Oriented Programming (OOP). They are :-              \n",
        "     - Modularity: Code is organized into classes and objects, making it easier to manage and understand.\n",
        "     - Reusability: Classes and objects can be reused across different programs, reducing redundancy.\n",
        "     - Scalability: OOP allows for the creation of complex and scalable applications by promoting code reuse and modularity.\n",
        "     - Maintainability: Encapsulation and abstraction help in maintaining and updating code without affecting other parts of the program.\n",
        "     - Flexibility: Polymorphism and inheritance enable the creation of flexible and extensible code.\n",
        "     - Real-world Modeling: OOP allows for the modeling of real-world entities and their interactions, making it intuitive and relatable.           \n",
        "\n",
        "      These advantages make OOP a powerful and widely-used programming paradigm for building robust and maintainable software."
      ],
      "metadata": {
        "id": "RmgjQSdyONhQ"
      }
    },
    {
      "cell_type": "markdown",
      "source": [
        "17. What is the difference between a class variable and an instance variable?\n",
        "     - In Object-Oriented Programming (OOP), class variables and instance variables serve different purposes:                   \n",
        "\n",
        "     Class Variable:                                \n",
        "     . Shared among all instances of a class.          \n",
        "     . Defined within the class but outside any instance methods.      \n",
        "     . Changes to a class variable affect all instances of the class.\n",
        "\n",
        "     Instance Variable:                   \n",
        "    .  Unique to each instance of a class.             \n",
        "    .  Defined within instance methods, typically within the __ init__ method.   \n",
        "    .  Changes to an instance variable affect only that specific instance.   \n",
        "    Hence, class variables are shared across all instances, while instance variables are specific to each instance."
      ],
      "metadata": {
        "id": "Hk3qurKoSx_u"
      }
    },
    {
      "cell_type": "markdown",
      "source": [
        "18. What is multiple inheritance in Python?\n",
        "    - Multiple inheritance in Python is a feature that allows a class to inherit attributes and methods from more than one parent class. This means a single subclass can have multiple superclasses, combining their functionalities. While powerful, multiple inheritance can lead to complexity and ambiguity, especially when the same method is defined in multiple parent classes. Python uses the Method Resolution Order (MRO) to determine the order in which methods are inherited and executed.\n",
        "\n"
      ],
      "metadata": {
        "id": "wHDoKBJ7VVrH"
      }
    },
    {
      "cell_type": "markdown",
      "source": [
        "19.  Explain the purpose of ' '__ str__' and '__ repr__' ' methods in python.\n",
        "      - In Python, the __ str__ and __ repr__ methods serve different purposes for representing objects as strings:\n",
        "\n",
        "      __ str__:\n",
        "\n",
        "      Purpose: To provide a readable and user-friendly string representation of an object.\n",
        "\n",
        "      Usage: Typically used for displaying information to end-users.\n",
        "\n",
        "       Example: When you use the print( ) function on an object, the __str__ method is called.\n",
        "\n",
        "       __ repr__:\n",
        "\n",
        "       Purpose: To provide an unambiguous and developer-oriented string representation of an object.\n",
        "\n",
        "       Usage: Used for debugging and development purposes.\n",
        "\n",
        "       Example: When you use the repr( ) function or inspect an object in the interactive interpreter, the __ repr__ method is called.      \n",
        "        \n",
        "       Hence, __ str__ is for creating a readable string for end-users, while __ repr__ is for creating a detailed string for developers."
      ],
      "metadata": {
        "id": "9Vbndzr2WhdA"
      }
    },
    {
      "cell_type": "markdown",
      "source": [
        "20. What is the significance of the 'super( )' function in Python?\n",
        "    - The super( ) function in Python is used to call a method from a parent class within a subclass. It is particularly useful in the context of inheritance, as it allows you to access and extend the functionality of the parent class without explicitly naming it. This promotes code reusability and maintainability. The super( ) function is commonly used in the __ init__ method to initialize the parent class's attributes and methods, ensuring that the subclass inherits and can build upon the parent class's behavior.\n",
        "\n"
      ],
      "metadata": {
        "id": "l2-SgFdyZvm8"
      }
    },
    {
      "cell_type": "markdown",
      "source": [
        "21. What is the significance of the __ del__ method in Python?\n",
        "    - The __ del__ method in Python is a special method known as a destructor. It is called when an object is about to be destroyed, allowing you to define cleanup actions that should be performed before the object is removed from memory. This can include closing files, releasing resources, or other necessary cleanup tasks. However, relying on __ del__ is generally discouraged because the timing of its execution is not guaranteed, and it can lead to unpredictable behavior. Instead, it's often better to use context managers and the with statement for resource management."
      ],
      "metadata": {
        "id": "1k1RAr_VawZS"
      }
    },
    {
      "cell_type": "markdown",
      "source": [
        "22. What is the difference between @staticmethod and @classmethod in Python?\n",
        "    - In Python, @staticmethod and @classmethod are decorators used to define methods within a class, but they serve different purposes:\n",
        "\n",
        "     @staticmethod:\n",
        "\n",
        "     - Does not take self or cls as the first parameter.\n",
        "\n",
        "     - Behaves like a regular function but belongs to the class's namespace.\n",
        "\n",
        "     - Cannot access or modify class-level attributes or methods directly.\n",
        "     -  Used for utility functions related to the class but not dependent on class or instance-specific data.\n",
        "\n",
        "     @classmethod:\n",
        "\n",
        "     - Defined using the @classmethod decorator.\n",
        "\n",
        "      - The first parameter is cls, which refers to the class itself, not an instance of the class.\n",
        "\n",
        "     - Used to access or modify class-level attributes and methods.\n",
        "\n",
        "      - Can be called on the class itself or on an instance of the class.\n",
        "\n",
        "      Hence, @staticmethod is for utility functions that don't need access to class or instance data, while @classmethod is for methods that need to interact with class-level data.\n"
      ],
      "metadata": {
        "id": "KgutMczXcoQn"
      }
    },
    {
      "cell_type": "markdown",
      "source": [
        "23. How does polymorphism work in Python with inheritance?\n",
        "    - Polymorphism in Python works with inheritance by allowing objects of different classes to be treated as objects of a common superclass. This enables methods to be used interchangeably, even if they belong to different classes. Here's how it works:\n",
        "\n",
        "       Method Overriding:                 \n",
        "       Subclasses can provide specific implementations of methods that are already defined in their superclass. When a method is called on an object, Python determines which method to execute based on the object's class, allowing different behaviors for the same method name.\n",
        "\n",
        "       Dynamic Method Binding:                      \n",
        "        The method to be executed is determined at runtime, not compile-time. This allows for more flexible and dynamic code, as the same method call can result in different behaviors depending on the object's class.\n",
        "\n",
        "       Common Interface:                      \n",
        "       Polymorphism allows different classes to implement the same interface (methods with the same name). This enables the use of a common interface to interact with objects of different classes, promoting code reusability and flexibility.\n",
        "\n",
        "      Hence, polymorphism in Python with inheritance allows for dynamic and flexible code by enabling method overriding, dynamic method binding, and the use of a common interface across different classes.\n",
        "\n"
      ],
      "metadata": {
        "id": "8vRVuE9EezFB"
      }
    },
    {
      "cell_type": "markdown",
      "source": [
        "24. What is method chaining in Python OOP?\n",
        "    - Method chaining in Python Object-Oriented Programming (OOP) is a technique that allows multiple methods to be called on the same object in a single line of code. This approach makes the code more concise and readable by linking method calls together in a chain-like manner. Each method in the chain returns the object itself, enabling subsequent methods to be called on the same object. Method chaining promotes a fluent interface, making the code easier to understand and maintain. By returning self from each method, you can create a seamless flow of method calls, enhancing the overall readability and efficiency of the code. This technique is particularly useful for performing a series of operations on an object without the need for intermediate variables or repeated references to the object.\n",
        "\n"
      ],
      "metadata": {
        "id": "n7C3m9lYgVv4"
      }
    },
    {
      "cell_type": "markdown",
      "source": [
        "25.  What is the purpose of the __ call__ method in Python?\n",
        "     - The __ call__ method in Python is a special method that allows an instance of a class to be called as if it were a function. When you define the __ call__ method in a class, you can use the class's instances with the same syntax as a regular function call. This can be useful for creating callable objects, implementing function-like behavior in objects, and enhancing the flexibility and readability of your code. By using the __ call__ method, you can encapsulate functionality within an object while still providing a simple and intuitive interface for users.\n",
        "\n"
      ],
      "metadata": {
        "id": "b4iexoudhek6"
      }
    },
    {
      "cell_type": "markdown",
      "source": [
        "## Practical Question and Answers"
      ],
      "metadata": {
        "id": "Ub2CxkhuiNnr"
      }
    },
    {
      "cell_type": "markdown",
      "source": [
        "1. Create a parent class Animal with a method speak( ) that prints a generic message. Create a child class Dog\n",
        "that overrides the speak( ) method to print \"Bark!\"."
      ],
      "metadata": {
        "id": "eiEwRtLCieqP"
      }
    },
    {
      "cell_type": "code",
      "source": [
        "# Ans\n",
        "\n",
        "class Animal:\n",
        "    def speak(self):\n",
        "        print(\"This is a generic animal sound.\")\n",
        "class Dog(Animal):\n",
        "    def speak(self):\n",
        "        print(\"Bark!\")\n",
        "generic_animal = Animal()\n",
        "dog = Dog()\n",
        "generic_animal.speak()\n",
        "dog.speak()"
      ],
      "metadata": {
        "id": "YOdpy9CntMtk",
        "colab": {
          "base_uri": "https://localhost:8080/"
        },
        "outputId": "aaf367ee-1bd1-451b-ee1e-be2c1ee67b28"
      },
      "execution_count": null,
      "outputs": [
        {
          "output_type": "stream",
          "name": "stdout",
          "text": [
            "This is a generic animal sound.\n",
            "Bark!\n"
          ]
        }
      ]
    },
    {
      "cell_type": "markdown",
      "source": [
        "2.  Write a program to create an abstract class Shape with a method area( ). Derive classes Circle and Rectangle\n",
        "from it and implement the area( ) method in both."
      ],
      "metadata": {
        "id": "RX7uxufNl5Xj"
      }
    },
    {
      "cell_type": "code",
      "source": [
        "# Ans\n",
        "\n",
        "from abc import ABC, abstractmethod\n",
        "import math\n",
        "class Shape(ABC):\n",
        "    @abstractmethod\n",
        "    def area(self):\n",
        "        pass\n",
        "class Circle(Shape):\n",
        "    def __init__(self, radius):\n",
        "        self.radius = radius\n",
        "    def area(self):\n",
        "        return math.pi * self.radius ** 2\n",
        "class Rectangle(Shape):\n",
        "    def __init__(self, width, height):\n",
        "        self.width = width\n",
        "        self.height = height\n",
        "    def area(self):\n",
        "        return self.width * self.height\n",
        "circle = Circle(5)\n",
        "rectangle = Rectangle(4, 6)\n",
        "print(f\"Area of the circle: {circle.area()}\")\n",
        "print(f\"Area of the rectangle: {rectangle.area()}\")"
      ],
      "metadata": {
        "colab": {
          "base_uri": "https://localhost:8080/"
        },
        "id": "ISJsbHcAmVxa",
        "outputId": "8e9643a4-ad8b-484e-f24f-399cd46719d7"
      },
      "execution_count": null,
      "outputs": [
        {
          "output_type": "stream",
          "name": "stdout",
          "text": [
            "Area of the circle: 78.53981633974483\n",
            "Area of the rectangle: 24\n"
          ]
        }
      ]
    },
    {
      "cell_type": "markdown",
      "source": [
        "3.  Implement a multi-level inheritance scenario where a class Vehicle has an attribute type. Derive a class Car\n",
        "and further derive a class ElectricCar that adds a battery attribute."
      ],
      "metadata": {
        "id": "GoHiMXdxnaum"
      }
    },
    {
      "cell_type": "code",
      "source": [
        "# Ans\n",
        "\n",
        "class Vehicle:\n",
        "    def __init__(self, vehicle_type):\n",
        "        self.vehicle_type = vehicle_type\n",
        "class Car(Vehicle):\n",
        "    def __init__(self, vehicle_type, brand):\n",
        "        super().__init__(vehicle_type)\n",
        "        self.brand = brand\n",
        "class ElectricCar(Car):\n",
        "    def __init__(self, vehicle_type, brand, battery_capacity):\n",
        "        super().__init__(vehicle_type, brand)\n",
        "        self.battery_capacity = battery_capacity\n",
        "# Creating an instance of ElectricCar\n",
        "my_electric_car = ElectricCar(\"Electric\", \"Tesla\", \"100 kWh\")\n",
        "# Accessing attributes\n",
        "print(f\"Type: {my_electric_car.vehicle_type}\")\n",
        "print(f\"Brand: {my_electric_car.brand}\")\n",
        "print(f\"Battery Capacity: {my_electric_car.battery_capacity}\")\n"
      ],
      "metadata": {
        "colab": {
          "base_uri": "https://localhost:8080/"
        },
        "id": "8pElRqoqmw49",
        "outputId": "40853ca5-c563-4d27-9cef-47f818dd2ba8"
      },
      "execution_count": null,
      "outputs": [
        {
          "output_type": "stream",
          "name": "stdout",
          "text": [
            "Type: Electric\n",
            "Brand: Tesla\n",
            "Battery Capacity: 100 kWh\n"
          ]
        }
      ]
    },
    {
      "cell_type": "markdown",
      "source": [
        "4.  Implement a multi-level inheritance scenario where a class Vehicle has an attribute type. Derive a class Car\n",
        "and further derive a class ElectricCar that adds a battery attribute."
      ],
      "metadata": {
        "id": "llOPI6yko90w"
      }
    },
    {
      "cell_type": "code",
      "source": [
        "# Ans\n",
        "\n",
        "class Vehicle:\n",
        "    def __init__(self, vehicle_type):\n",
        "        self.vehicle_type = vehicle_type\n",
        "class Car(Vehicle):\n",
        "    def __init__(self, vehicle_type, brand):\n",
        "        super().__init__(vehicle_type)\n",
        "        self.brand = brand\n",
        "class ElectricCar(Car):\n",
        "    def __init__(self, vehicle_type, brand, battery_capacity):\n",
        "        super().__init__(vehicle_type, brand)\n",
        "        self.battery_capacity = battery_capacity\n",
        "# Creating an instance of ElectricCar\n",
        "my_electric_car = ElectricCar(\"Electric\", \"MG\", \"1000 kWh\")\n",
        "# Accessing attributes\n",
        "print(f\"Type: {my_electric_car.vehicle_type}\")\n",
        "print(f\"Brand: {my_electric_car.brand}\")\n",
        "print(f\"Battery Capacity: {my_electric_car.battery_capacity}\")"
      ],
      "metadata": {
        "colab": {
          "base_uri": "https://localhost:8080/"
        },
        "id": "MAu8M6ItopNn",
        "outputId": "3034cd4e-e66c-4563-ed03-29224e63d88b"
      },
      "execution_count": null,
      "outputs": [
        {
          "output_type": "stream",
          "name": "stdout",
          "text": [
            "Type: Electric\n",
            "Brand: MG\n",
            "Battery Capacity: 1000 kWh\n"
          ]
        }
      ]
    },
    {
      "cell_type": "markdown",
      "source": [
        "5.  Write a program to demonstrate encapsulation by creating a class BankAccount with private attributes\n",
        "balance and methods to deposit, withdraw, and check balance."
      ],
      "metadata": {
        "id": "nnownmdeqFnO"
      }
    },
    {
      "cell_type": "code",
      "source": [
        "# Ans\n",
        "\n",
        "class BankAccount:\n",
        "    def __init__(self, initial_balance=0):\n",
        "        self.__balance = initial_balance\n",
        "    def deposit(self, amount):\n",
        "        if amount > 0:\n",
        "            self.__balance += amount\n",
        "            print(f\"Deposited: {amount}\")\n",
        "        else:\n",
        "            print(\"Invalid deposit amount\")\n",
        "    def withdraw(self, amount):\n",
        "        if 0 < amount <= self.__balance:\n",
        "            self.__balance -= amount\n",
        "            print(f\"Withdrawn: {amount}\")\n",
        "        else:\n",
        "            print(\"Invalid withdrawal amount or insufficient funds\")\n",
        "    def check_balance(self):\n",
        "        print(f\"Current balance: {self.__balance}\")\n",
        "# Creating an instance of BankAccount\n",
        "account = BankAccount(100)\n",
        "# Using the methods\n",
        "account.deposit(50)\n",
        "account.withdraw(30)\n",
        "account.check_balance()"
      ],
      "metadata": {
        "colab": {
          "base_uri": "https://localhost:8080/"
        },
        "id": "YHOqr3BZpyOe",
        "outputId": "38e113d8-bcd6-4cd2-d7f5-67f46af0bdd7"
      },
      "execution_count": null,
      "outputs": [
        {
          "output_type": "stream",
          "name": "stdout",
          "text": [
            "Deposited: 50\n",
            "Withdrawn: 30\n",
            "Current balance: 120\n"
          ]
        }
      ]
    },
    {
      "cell_type": "markdown",
      "source": [
        "6.  Demonstrate runtime polymorphism using a method play( ) in a base class Instrument. Derive classes Guitar\n",
        "and Piano that implement their own version of play( )."
      ],
      "metadata": {
        "id": "60536p7Sq9E3"
      }
    },
    {
      "cell_type": "code",
      "source": [
        "# Ans\n",
        "\n",
        "class Instrument:\n",
        "    def play(self):\n",
        "        raise NotImplementedError(\"Subclass must implement abstract method\")\n",
        "class Guitar(Instrument):\n",
        "    def play(self):\n",
        "        print(\"Strumming the guitar!\")\n",
        "class Piano(Instrument):\n",
        "    def play(self):\n",
        "        print(\"Playing the piano!\")\n",
        "# Creating instances of Guitar and Piano\n",
        "guitar = Guitar()\n",
        "piano = Piano()\n",
        "# Demonstrating runtime polymorphism\n",
        "instruments = [guitar, piano]\n",
        "for instrument in instruments:\n",
        "    instrument.play()"
      ],
      "metadata": {
        "colab": {
          "base_uri": "https://localhost:8080/"
        },
        "id": "faai7MkOqvGy",
        "outputId": "404f3d06-c3df-48b9-8f1c-1e1c45236c9b"
      },
      "execution_count": null,
      "outputs": [
        {
          "output_type": "stream",
          "name": "stdout",
          "text": [
            "Strumming the guitar!\n",
            "Playing the piano!\n"
          ]
        }
      ]
    },
    {
      "cell_type": "markdown",
      "source": [
        "7.  Create a class MathOperations with a class method add_numbers( ) to add two numbers and a static\n",
        "method subtract_numbers( ) to subtract two numbers."
      ],
      "metadata": {
        "id": "QGnD-tr1scVW"
      }
    },
    {
      "cell_type": "code",
      "source": [
        "# Ans\n",
        "\n",
        "class MathOperations:\n",
        "    @classmethod\n",
        "    def add_numbers(cls, a, b):\n",
        "        return a + b\n",
        "    @staticmethod\n",
        "    def subtract_numbers(a, b):\n",
        "        return a - b\n",
        "# Using the class methods\n",
        "sum_result = MathOperations.add_numbers(5, 3)\n",
        "difference_result = MathOperations.subtract_numbers(10, 4)\n",
        "print(f\"Sum: {sum_result}\")\n",
        "print(f\"Difference: {difference_result}\")"
      ],
      "metadata": {
        "colab": {
          "base_uri": "https://localhost:8080/"
        },
        "id": "lkA2oRIzsPiU",
        "outputId": "58bf11fa-7520-4ef9-c9fe-6daeb822ccba"
      },
      "execution_count": null,
      "outputs": [
        {
          "output_type": "stream",
          "name": "stdout",
          "text": [
            "Sum: 8\n",
            "Difference: 6\n"
          ]
        }
      ]
    },
    {
      "cell_type": "markdown",
      "source": [
        "8. Implement a class Person with a class method to count the total number of persons created."
      ],
      "metadata": {
        "id": "tu3WVGHjtBVy"
      }
    },
    {
      "cell_type": "code",
      "source": [
        "# Ans\n",
        "\n",
        "class Person:\n",
        "    count = 0\n",
        "    def __init__(self, name):\n",
        "        self.name = name\n",
        "        Person.count += 1\n",
        "    @classmethod\n",
        "    def total_persons(cls):\n",
        "        return cls.count\n",
        "person1 = Person(\"umesh\")\n",
        "person2 = Person(\"deva\")\n",
        "person3 = Person(\"dimple\")\n",
        "print(f\"Total persons created: {Person.total_persons()}\")"
      ],
      "metadata": {
        "id": "Pa3FtHyws4yn",
        "colab": {
          "base_uri": "https://localhost:8080/"
        },
        "outputId": "945a1359-5865-4623-eaa6-63ef718ac1e7"
      },
      "execution_count": 2,
      "outputs": [
        {
          "output_type": "stream",
          "name": "stdout",
          "text": [
            "Total persons created: 3\n"
          ]
        }
      ]
    },
    {
      "cell_type": "markdown",
      "source": [
        "9.  Write a class Fraction with attributes numerator and denominator. Override the str method to display the\n",
        "fraction as \"numerator/denominator\"."
      ],
      "metadata": {
        "id": "yqlpuohnH7_8"
      }
    },
    {
      "cell_type": "code",
      "source": [
        "# Ans\n",
        "\n",
        "class Fraction:\n",
        "    def __init__(self, numerator, denominator):\n",
        "        self.numerator = numerator\n",
        "        self.denominator = denominator\n",
        "    def __str__(self):\n",
        "        return f\"{self.numerator}/{self.denominator}\"\n",
        "fraction = Fraction(3, 4)\n",
        "print(fraction)"
      ],
      "metadata": {
        "colab": {
          "base_uri": "https://localhost:8080/"
        },
        "id": "swygbNZTHTnp",
        "outputId": "4956009d-fd4a-4db6-cace-f43844adc911"
      },
      "execution_count": 4,
      "outputs": [
        {
          "output_type": "stream",
          "name": "stdout",
          "text": [
            "3/4\n"
          ]
        }
      ]
    },
    {
      "cell_type": "markdown",
      "source": [
        "10.  Demonstrate operator overloading by creating a class Vector and overriding the add method to add two\n",
        "vectors."
      ],
      "metadata": {
        "id": "6zWavUyXKxj4"
      }
    },
    {
      "cell_type": "code",
      "source": [
        "# Ans\n",
        "\n",
        "class Vector:\n",
        "    def __init__(self, x, y):\n",
        "        self.x = x\n",
        "        self.y = y\n",
        "    def __add__(self, other):\n",
        "        return Vector(self.x + other.x, self.y + other.y)\n",
        "    def __str__(self):\n",
        "        return f\"({self.x}, {self.y})\"\n",
        "# Creating instances of Vector\n",
        "vector1 = Vector(2, 3)\n",
        "vector2 = Vector(4, 5)\n",
        "# Adding two vectors\n",
        "result = vector1 + vector2\n",
        "# Printing the result\n",
        "print(result)  # Output: (6, 8)"
      ],
      "metadata": {
        "colab": {
          "base_uri": "https://localhost:8080/"
        },
        "id": "b0HVynvlJr_t",
        "outputId": "b198dd83-199b-4aba-8c69-7e1cf2015265"
      },
      "execution_count": 6,
      "outputs": [
        {
          "output_type": "stream",
          "name": "stdout",
          "text": [
            "(6, 8)\n"
          ]
        }
      ]
    },
    {
      "cell_type": "markdown",
      "source": [
        "11.  Create a class Person with attributes name and age. Add a method greet() that prints \"Hello, my name is\n",
        "{name} and I am {age} years old.\""
      ],
      "metadata": {
        "id": "VaWrbTMdNLrw"
      }
    },
    {
      "cell_type": "code",
      "source": [
        "# Ans\n",
        "\n",
        "class Person:\n",
        "    def __init__(self, name, age):\n",
        "        self.name = name\n",
        "        self.age = age\n",
        "    def greet(self):\n",
        "        print(f\"Hello, my name is {self.name} and I am {self.age} years old.\")\n",
        "# Creating an instance of Person\n",
        "person = Person(\"umesh\", 20)\n",
        "# Calling the greet method\n",
        "person.greet()  # Output: Hello, my name is Alice and I am 30 years old."
      ],
      "metadata": {
        "colab": {
          "base_uri": "https://localhost:8080/"
        },
        "id": "ybzScCQzN8M2",
        "outputId": "e2e33efd-f5b2-4390-a436-e4c8c035474e"
      },
      "execution_count": 9,
      "outputs": [
        {
          "output_type": "stream",
          "name": "stdout",
          "text": [
            "Hello, my name is umesh and I am 20 years old.\n"
          ]
        }
      ]
    },
    {
      "cell_type": "markdown",
      "source": [
        "12.  Implement a class Student with attributes name and grades. Create a method average_grade( ) to compute\n",
        "the average of the grades."
      ],
      "metadata": {
        "id": "y1r-RlSTPz6a"
      }
    },
    {
      "cell_type": "code",
      "source": [
        "# Ans\n",
        "\n",
        "class Student:\n",
        "    def __init__(self, name, grades):\n",
        "        self.name = name\n",
        "        self.grades = grades\n",
        "    def average_grade(self):\n",
        "        return sum(self.grades) / len(self.grades)\n",
        "# Creating an instance of Student\n",
        "student = Student(\"umesh\", [85, 90, 78, 92, 88])\n",
        "# Calculating and printing the average grade\n",
        "print(f\"Average grade: {student.average_grade()}\")"
      ],
      "metadata": {
        "colab": {
          "base_uri": "https://localhost:8080/"
        },
        "id": "IefpAk7GOR9H",
        "outputId": "54b8a42a-41c3-4aab-c087-404e8cb1c849"
      },
      "execution_count": 11,
      "outputs": [
        {
          "output_type": "stream",
          "name": "stdout",
          "text": [
            "Average grade: 86.6\n"
          ]
        }
      ]
    },
    {
      "cell_type": "markdown",
      "source": [
        "13. Create a class Rectangle with methods set_dimensions( ) to set the dimensions and area( ) to calculate the\n",
        "area."
      ],
      "metadata": {
        "id": "2WDf3tpzRKG3"
      }
    },
    {
      "cell_type": "code",
      "source": [
        "# Ans\n",
        "\n",
        "class Rectangle:\n",
        "    def __init__(self):\n",
        "        self.width = 0\n",
        "        self.height = 0\n",
        "    def set_dimensions(self, width, height):\n",
        "        self.width = width\n",
        "        self.height = height\n",
        "    def area(self):\n",
        "        return self.width * self.height\n",
        "# Creating an instance of Rectangle\n",
        "rect = Rectangle()\n",
        "# Setting dimensions\n",
        "rect.set_dimensions(4, 5)\n",
        "# Calculating and printing the area\n",
        "print(f\"Area of the rectangle: {rect.area()}\")"
      ],
      "metadata": {
        "colab": {
          "base_uri": "https://localhost:8080/"
        },
        "id": "eUD8f6ElQnmm",
        "outputId": "aa7d7d53-17d5-44b7-edad-20651bc89ba0"
      },
      "execution_count": 13,
      "outputs": [
        {
          "output_type": "stream",
          "name": "stdout",
          "text": [
            "Area of the rectangle: 20\n"
          ]
        }
      ]
    },
    {
      "cell_type": "markdown",
      "source": [
        "14.  Create a class Employee with a method calculate_salary( ) that computes the salary based on hours worked\n",
        "and hourly rate. Create a derived class Manager that adds a bonus to the salary."
      ],
      "metadata": {
        "id": "bZ7TxmqHSpVh"
      }
    },
    {
      "cell_type": "code",
      "source": [
        "# Ans\n",
        "\n",
        "class Employee:\n",
        "    def __init__(self, name, hours_worked, hourly_rate):\n",
        "        self.name = name\n",
        "        self.hours_worked = hours_worked\n",
        "        self.hourly_rate = hourly_rate\n",
        "    def calculate_salary(self):\n",
        "        return self.hours_worked * self.hourly_rate\n",
        "class Manager(Employee):\n",
        "    def __init__(self, name, hours_worked, hourly_rate, bonus):\n",
        "        super().__init__(name, hours_worked, hourly_rate)\n",
        "        self.bonus = bonus\n",
        "    def calculate_salary(self):\n",
        "        base_salary = super().calculate_salary()\n",
        "        return base_salary + self.bonus\n",
        "# Creating instances of Employee and Manager\n",
        "employee = Employee(\"deva\", 40, 200)\n",
        "manager = Manager(\"umesh\", 40, 300, 500)\n",
        "# Calculating and printing the salaries\n",
        "print(f\"{employee.name}'s salary: {employee.calculate_salary()}\")\n",
        "print(f\"{manager.name}'s salary: {manager.calculate_salary()}\")"
      ],
      "metadata": {
        "colab": {
          "base_uri": "https://localhost:8080/"
        },
        "id": "voMVhfQ0SCz-",
        "outputId": "9aa6c428-8998-42fd-eb09-2f4313a2d6fc"
      },
      "execution_count": 18,
      "outputs": [
        {
          "output_type": "stream",
          "name": "stdout",
          "text": [
            "deva's salary: 8000\n",
            "umesh's salary: 12500\n"
          ]
        }
      ]
    },
    {
      "cell_type": "markdown",
      "source": [
        "15.  Create a class Product with attributes name, price, and quantity. Implement a method total_price( ) that\n",
        "calculates the total price of the product."
      ],
      "metadata": {
        "id": "D-HepEAHU4UT"
      }
    },
    {
      "cell_type": "code",
      "source": [
        "# Ans\n",
        "\n",
        "class Product:\n",
        "    def __init__(self, name, price, quantity):\n",
        "        self.name = name\n",
        "        self.price = price\n",
        "        self.quantity = quantity\n",
        "    def total_price(self):\n",
        "        return self.price * self.quantity\n",
        "# Creating an instance of Product\n",
        "product = Product(\"mobile\", 10000, 3)\n",
        "# Calculating and printing the total price\n",
        "print(f\"Total price: {product.total_price()}\")"
      ],
      "metadata": {
        "colab": {
          "base_uri": "https://localhost:8080/"
        },
        "id": "R6yYJsFgTY4R",
        "outputId": "7d53f4b3-105a-46d6-dba4-8cda75da0a51"
      },
      "execution_count": 21,
      "outputs": [
        {
          "output_type": "stream",
          "name": "stdout",
          "text": [
            "Total price: 30000\n"
          ]
        }
      ]
    },
    {
      "cell_type": "markdown",
      "source": [
        "16.  Create a class Animal with an abstract method sound( ). Create two derived classes Cow and Sheep that\n",
        "implement the sound( ) method."
      ],
      "metadata": {
        "id": "AkIc79JnWNgu"
      }
    },
    {
      "cell_type": "code",
      "source": [
        "# Ans\n",
        "\n",
        "from abc import ABC, abstractmethod\n",
        "class Animal(ABC):\n",
        "    @abstractmethod\n",
        "    def sound(self):\n",
        "        pass\n",
        "class Cow(Animal):\n",
        "    def sound(self):\n",
        "        print(\"Moo!\")\n",
        "class Sheep(Animal):\n",
        "    def sound(self):\n",
        "        print(\"Baa!\")\n",
        "# Creating instances of Cow and Sheep\n",
        "cow = Cow()\n",
        "sheep = Sheep()\n",
        "# Calling the sound method\n",
        "cow.sound()   # Output: Moo!\n",
        "sheep.sound() # Output: Baa!"
      ],
      "metadata": {
        "colab": {
          "base_uri": "https://localhost:8080/"
        },
        "id": "Op6HV5cIVljP",
        "outputId": "df458344-fb39-4db3-8b21-a80e3d0ea3d3"
      },
      "execution_count": 23,
      "outputs": [
        {
          "output_type": "stream",
          "name": "stdout",
          "text": [
            "Moo!\n",
            "Baa!\n"
          ]
        }
      ]
    },
    {
      "cell_type": "markdown",
      "source": [
        "17.  Create a class Book with attributes title, author, and year_published. Add a method get_book_info( ) that\n",
        "returns a formatted string with the book's details."
      ],
      "metadata": {
        "id": "aS5v_MHuXP0Z"
      }
    },
    {
      "cell_type": "code",
      "source": [
        "# Ans\n",
        "\n",
        "class Book:\n",
        "    def __init__(self, title, author, year_published):\n",
        "        self.title = title\n",
        "        self.author = author\n",
        "        self.year_published = year_published\n",
        "    def get_book_info(self):\n",
        "        return f\"Title: {self.title}, Author: {self.author}, Year Published: {self.year_published}\"\n",
        "# Creating an instance of Book\n",
        "book = Book(\"Raman of tenali\", \"Anant Pai\", 1978)\n",
        "# Getting the book information\n",
        "print(book.get_book_info())"
      ],
      "metadata": {
        "colab": {
          "base_uri": "https://localhost:8080/"
        },
        "id": "jFqY6gSyWqr5",
        "outputId": "ee06d748-bb8b-4946-ce1f-e41dbda346b8"
      },
      "execution_count": 30,
      "outputs": [
        {
          "output_type": "stream",
          "name": "stdout",
          "text": [
            "Title: Raman of tenali, Author: Anant Pai, Year Published: 1978\n"
          ]
        }
      ]
    },
    {
      "cell_type": "markdown",
      "source": [
        "18.  Create a class House with attributes address and price. Create a derived class Mansion that adds an\n",
        "attribute number_of_rooms."
      ],
      "metadata": {
        "id": "zm1JmqLCknbW"
      }
    },
    {
      "cell_type": "code",
      "source": [
        "# Ans\n",
        "\n",
        "class House:\n",
        "    def __init__(self, address, price):\n",
        "        self.address = address\n",
        "        self.price = price\n",
        "class Mansion(House):\n",
        "    def __init__(self, address, price, number_of_rooms):\n",
        "        super().__init__(address, price)\n",
        "        self.number_of_rooms = number_of_rooms\n",
        "# Creating an instance of Mansion\n",
        "mansion = Mansion(\"5/12, kothavalasa, vizag, Andhra pradesh\", 10000000, 8)\n",
        "# Accessing attributes\n",
        "print(f\"Address: {mansion.address}\")\n",
        "print(f\"Price: {mansion.price}\")\n",
        "print(f\"Number of Rooms: {mansion.number_of_rooms}\")"
      ],
      "metadata": {
        "colab": {
          "base_uri": "https://localhost:8080/"
        },
        "id": "TJ173cy-YRTd",
        "outputId": "5c62ad02-5ed4-43bc-9d9f-e4e7273774a8"
      },
      "execution_count": 34,
      "outputs": [
        {
          "output_type": "stream",
          "name": "stdout",
          "text": [
            "Address: 5/12, kothavalasa, vizag, Andhra pradesh\n",
            "Price: 10000000\n",
            "Number of Rooms: 8\n"
          ]
        }
      ]
    }
  ]
}